{
 "cells": [
  {
   "cell_type": "code",
   "execution_count": 1,
   "metadata": {},
   "outputs": [],
   "source": [
    "import pandas as pd"
   ]
  },
  {
   "cell_type": "code",
   "execution_count": 2,
   "metadata": {},
   "outputs": [
    {
     "data": {
      "text/html": [
       "<div>\n",
       "<style scoped>\n",
       "    .dataframe tbody tr th:only-of-type {\n",
       "        vertical-align: middle;\n",
       "    }\n",
       "\n",
       "    .dataframe tbody tr th {\n",
       "        vertical-align: top;\n",
       "    }\n",
       "\n",
       "    .dataframe thead th {\n",
       "        text-align: right;\n",
       "    }\n",
       "</style>\n",
       "<table border=\"1\" class=\"dataframe\">\n",
       "  <thead>\n",
       "    <tr style=\"text-align: right;\">\n",
       "      <th></th>\n",
       "      <th>ticker</th>\n",
       "      <th>date</th>\n",
       "      <th>price</th>\n",
       "    </tr>\n",
       "  </thead>\n",
       "  <tbody>\n",
       "    <tr>\n",
       "      <th>0</th>\n",
       "      <td>AAPL</td>\n",
       "      <td>2022-01-01</td>\n",
       "      <td>100</td>\n",
       "    </tr>\n",
       "    <tr>\n",
       "      <th>1</th>\n",
       "      <td>PLTR</td>\n",
       "      <td>2022-01-02</td>\n",
       "      <td>101</td>\n",
       "    </tr>\n",
       "    <tr>\n",
       "      <th>2</th>\n",
       "      <td>MSFT</td>\n",
       "      <td>2022-01-03</td>\n",
       "      <td>102</td>\n",
       "    </tr>\n",
       "  </tbody>\n",
       "</table>\n",
       "</div>"
      ],
      "text/plain": [
       "  ticker        date  price\n",
       "0   AAPL  2022-01-01    100\n",
       "1   PLTR  2022-01-02    101\n",
       "2   MSFT  2022-01-03    102"
      ]
     },
     "execution_count": 2,
     "metadata": {},
     "output_type": "execute_result"
    }
   ],
   "source": [
    "prices = pd.DataFrame(data=[\n",
    "    {'ticker': 'AAPL', 'date': '2022-01-01', 'price': 100},\n",
    "    {'ticker': 'PLTR', 'date': '2022-01-02', 'price': 101},\n",
    "    {'ticker': 'MSFT', 'date': '2022-01-03', 'price': 102},\n",
    "])\n",
    "prices"
   ]
  },
  {
   "cell_type": "code",
   "execution_count": 23,
   "metadata": {},
   "outputs": [],
   "source": [
    "prices.set_index('ticker')['price'].get('A')"
   ]
  },
  {
   "cell_type": "code",
   "execution_count": 25,
   "metadata": {},
   "outputs": [
    {
     "data": {
      "text/plain": [
       "[('MSFT', 102), ('PLTR', 101), ('AAPL', 100)]"
      ]
     },
     "execution_count": 25,
     "metadata": {},
     "output_type": "execute_result"
    }
   ],
   "source": [
    "sorted(prices.set_index('ticker')['price'].items(), key=lambda x: x[1], reverse=True)"
   ]
  },
  {
   "cell_type": "markdown",
   "metadata": {},
   "source": [
    "## FinViz stats"
   ]
  },
  {
   "cell_type": "code",
   "execution_count": 4,
   "metadata": {},
   "outputs": [],
   "source": [
    "import aiohttp\n",
    "import pandas as pd\n",
    "from io import StringIO\n",
    "\n",
    "from config import settings\n",
    "\n",
    "\n",
    "async def get_ticker_info(tickers: list[str]):\n",
    "    async with aiohttp.ClientSession() as session:\n",
    "        data = await session.get(\n",
    "            f'https://elite.finviz.com/export.ashx?v=152&t={\",\".join(tickers)}&o=-change&c=1,2,3,5,6,7,75,16,82,78,28,38,39,40,41,42,44,46,48,54,65,66&auth={settings.FINVIZ_API_KEY}'\n",
    "        )\n",
    "        df = pd.read_csv(\n",
    "            StringIO(await data.text())\n",
    "        ).set_index('Ticker')\n",
    "        return df.to_dict('index')\n",
    "\n",
    "def get_performance(dataset: pd.DataFrame, weights: dict):\n",
    "    returns = dataset[weights.keys()].pct_change()\n",
    "    portfolio_returns = returns.dot(pd.Series(weights))\n",
    "    return ((1 + portfolio_returns).cumprod() * 100).dropna()\n",
    "\n"
   ]
  },
  {
   "cell_type": "code",
   "execution_count": null,
   "metadata": {},
   "outputs": [],
   "source": []
  }
 ],
 "metadata": {
  "kernelspec": {
   "display_name": "Python 3",
   "language": "python",
   "name": "python3"
  },
  "language_info": {
   "codemirror_mode": {
    "name": "ipython",
    "version": 3
   },
   "file_extension": ".py",
   "mimetype": "text/x-python",
   "name": "python",
   "nbconvert_exporter": "python",
   "pygments_lexer": "ipython3",
   "version": "3.12.8"
  }
 },
 "nbformat": 4,
 "nbformat_minor": 2
}
