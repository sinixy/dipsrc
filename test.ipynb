{
 "cells": [
  {
   "cell_type": "code",
   "execution_count": 1,
   "metadata": {},
   "outputs": [],
   "source": [
    "import yfinance as yf"
   ]
  },
  {
   "cell_type": "code",
   "execution_count": 3,
   "metadata": {},
   "outputs": [
    {
     "data": {
      "text/plain": [
       "{'maxAge': 86400,\n",
       " 'priceHint': 2,\n",
       " 'previousClose': 24.6,\n",
       " 'open': 23.63,\n",
       " 'dayLow': 22.34,\n",
       " 'dayHigh': 24.32,\n",
       " 'regularMarketPreviousClose': 24.6,\n",
       " 'regularMarketOpen': 23.63,\n",
       " 'regularMarketDayLow': 22.34,\n",
       " 'regularMarketDayHigh': 24.32,\n",
       " 'volume': 0,\n",
       " 'regularMarketVolume': 0,\n",
       " 'averageVolume': 0,\n",
       " 'averageVolume10days': 0,\n",
       " 'averageDailyVolume10Day': 0,\n",
       " 'bid': 0.0,\n",
       " 'ask': 0.0,\n",
       " 'bidSize': 0,\n",
       " 'askSize': 0,\n",
       " 'fiftyTwoWeekLow': 15.53,\n",
       " 'fiftyTwoWeekHigh': 35.05,\n",
       " 'fiftyDayAverage': 18.5274,\n",
       " 'twoHundredDayAverage': 22.3272,\n",
       " 'currency': 'USD',\n",
       " 'tradeable': False,\n",
       " '52WeekChange': -31.462389,\n",
       " 'quoteType': 'INDEX',\n",
       " 'symbol': '^VIX',\n",
       " 'language': 'en-US',\n",
       " 'region': 'US',\n",
       " 'typeDisp': 'Index',\n",
       " 'triggerable': False,\n",
       " 'customPriceAlertConfidence': 'LOW',\n",
       " 'regularMarketChangePercent': -7.8048778,\n",
       " 'regularMarketPrice': 22.68,\n",
       " 'shortName': 'CBOE Volatility Index',\n",
       " 'longName': 'CBOE Volatility Index',\n",
       " 'fiftyDayAverageChange': 4.1526012,\n",
       " 'fiftyDayAverageChangePercent': 0.22413298,\n",
       " 'twoHundredDayAverageChange': 0.35280037,\n",
       " 'twoHundredDayAverageChangePercent': 0.01580137,\n",
       " 'sourceInterval': 15,\n",
       " 'exchangeDataDelayedBy': 0,\n",
       " 'cryptoTradeable': False,\n",
       " 'hasPrePostMarketData': False,\n",
       " 'firstTradeDateMilliseconds': 631267200000,\n",
       " 'fiftyTwoWeekLowChangePercent': 0.46039927,\n",
       " 'fiftyTwoWeekRange': '15.53 - 35.05',\n",
       " 'fiftyTwoWeekHighChange': -12.369999,\n",
       " 'fiftyTwoWeekHighChangePercent': -0.35292438,\n",
       " 'fiftyTwoWeekChangePercent': -31.462389,\n",
       " 'regularMarketChange': -1.9200001,\n",
       " 'regularMarketDayRange': '22.34 - 24.32',\n",
       " 'fullExchangeName': 'Cboe Indices',\n",
       " 'averageDailyVolume3Month': 0,\n",
       " 'fiftyTwoWeekLowChange': 7.1500006,\n",
       " 'corporateActions': [],\n",
       " 'regularMarketTime': 1746216901,\n",
       " 'exchange': 'CXI',\n",
       " 'messageBoardId': 'finmb_INDEXVIX',\n",
       " 'exchangeTimezoneName': 'America/Chicago',\n",
       " 'exchangeTimezoneShortName': 'CDT',\n",
       " 'gmtOffSetMilliseconds': -18000000,\n",
       " 'market': 'cboe_market',\n",
       " 'esgPopulated': False,\n",
       " 'marketState': 'POSTPOST',\n",
       " 'trailingPegRatio': None}"
      ]
     },
     "execution_count": 3,
     "metadata": {},
     "output_type": "execute_result"
    }
   ],
   "source": [
    "ticker = yf.Ticker(\"^VIX\")\n",
    "ticker.info"
   ]
  },
  {
   "cell_type": "code",
   "execution_count": null,
   "metadata": {},
   "outputs": [
    {
     "data": {
      "text/plain": [
       "503"
      ]
     },
     "execution_count": 4,
     "metadata": {},
     "output_type": "execute_result"
    }
   ],
   "source": [
    "df.symbol.unique().size"
   ]
  },
  {
   "cell_type": "markdown",
   "metadata": {},
   "source": [
    "## FinViz stats"
   ]
  },
  {
   "cell_type": "code",
   "execution_count": 4,
   "metadata": {},
   "outputs": [],
   "source": [
    "import aiohttp\n",
    "import pandas as pd\n",
    "from io import StringIO\n",
    "\n",
    "from config import settings\n",
    "\n",
    "\n",
    "async def get_ticker_info(tickers: list[str]):\n",
    "    async with aiohttp.ClientSession() as session:\n",
    "        data = await session.get(\n",
    "            f'https://elite.finviz.com/export.ashx?v=152&t={\",\".join(tickers)}&o=-change&c=1,2,3,5,6,7,75,16,82,78,28,38,39,40,41,42,44,46,48,54,65,66&auth={settings.FINVIZ_API_KEY}'\n",
    "        )\n",
    "        df = pd.read_csv(\n",
    "            StringIO(await data.text())\n",
    "        ).set_index('Ticker')\n",
    "        return df.to_dict('index')\n",
    "\n",
    "def get_performance(dataset: pd.DataFrame, weights: dict):\n",
    "    returns = dataset[weights.keys()].pct_change()\n",
    "    portfolio_returns = returns.dot(pd.Series(weights))\n",
    "    return ((1 + portfolio_returns).cumprod() * 100).dropna()\n",
    "\n"
   ]
  },
  {
   "cell_type": "code",
   "execution_count": null,
   "metadata": {},
   "outputs": [],
   "source": []
  }
 ],
 "metadata": {
  "kernelspec": {
   "display_name": "Python 3",
   "language": "python",
   "name": "python3"
  },
  "language_info": {
   "codemirror_mode": {
    "name": "ipython",
    "version": 3
   },
   "file_extension": ".py",
   "mimetype": "text/x-python",
   "name": "python",
   "nbconvert_exporter": "python",
   "pygments_lexer": "ipython3",
   "version": "3.12.8"
  }
 },
 "nbformat": 4,
 "nbformat_minor": 2
}
