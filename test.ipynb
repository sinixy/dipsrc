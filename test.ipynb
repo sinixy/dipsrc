{
 "cells": [
  {
   "cell_type": "code",
   "execution_count": 1,
   "metadata": {},
   "outputs": [],
   "source": [
    "from pymongo import MongoClient\n",
    "client = MongoClient('localhost', 27017)\n",
    "db = client.portfolios"
   ]
  },
  {
   "cell_type": "code",
   "execution_count": 3,
   "metadata": {},
   "outputs": [
    {
     "data": {
      "text/plain": [
       "{'_id': '4ad3f122123d4c00a9c49fdae13b1dd4',\n",
       " 'name': 'porto2023',\n",
       " 'created_at': datetime.datetime(2025, 5, 4, 11, 19, 54, 224000),\n",
       " 'end_date': datetime.datetime(2023, 5, 4, 0, 0),\n",
       " 'capital': 10000,\n",
       " 'stocks': [{'ticker': 'CME',\n",
       "   'price': 280.45,\n",
       "   'weight': 0.10365943658757049,\n",
       "   'allocated': 841.3499999999999,\n",
       "   'shares': 3},\n",
       "  {'ticker': 'CBOE',\n",
       "   'price': 226.39,\n",
       "   'weight': 0.09696982174248989,\n",
       "   'allocated': 905.56,\n",
       "   'shares': 4},\n",
       "  {'ticker': 'KMB',\n",
       "   'price': 130.35,\n",
       "   'weight': 0.08871739711218611,\n",
       "   'allocated': 782.0999999999999,\n",
       "   'shares': 6},\n",
       "  {'ticker': 'EA',\n",
       "   'price': 151.1,\n",
       "   'weight': 0.08148572085195978,\n",
       "   'allocated': 755.5,\n",
       "   'shares': 5},\n",
       "  {'ticker': 'MCD',\n",
       "   'price': 311.96,\n",
       "   'weight': 0.07954139349805923,\n",
       "   'allocated': 623.92,\n",
       "   'shares': 2},\n",
       "  {'ticker': 'GIS',\n",
       "   'price': 55.43,\n",
       "   'weight': 0.07331009744436356,\n",
       "   'allocated': 720.59,\n",
       "   'shares': 13},\n",
       "  {'ticker': 'KO',\n",
       "   'price': 71.65,\n",
       "   'weight': 0.06908099251417722,\n",
       "   'allocated': 644.85,\n",
       "   'shares': 9},\n",
       "  {'ticker': 'HOLX',\n",
       "   'price': 54.16,\n",
       "   'weight': 0.06267490955327323,\n",
       "   'allocated': 595.76,\n",
       "   'shares': 11},\n",
       "  {'ticker': 'ABBV',\n",
       "   'price': 198.47,\n",
       "   'weight': 0.05987671219299688,\n",
       "   'allocated': 595.41,\n",
       "   'shares': 3},\n",
       "  {'ticker': 'COR',\n",
       "   'price': 292.12,\n",
       "   'weight': 0.04950907532970015,\n",
       "   'allocated': 292.12,\n",
       "   'shares': 1},\n",
       "  {'ticker': 'WM',\n",
       "   'price': 233.94,\n",
       "   'weight': 0.04513255532797225,\n",
       "   'allocated': 233.94,\n",
       "   'shares': 1},\n",
       "  {'ticker': 'NYT',\n",
       "   'price': 52.31,\n",
       "   'weight': 0.04422706833807679,\n",
       "   'allocated': 418.48,\n",
       "   'shares': 8},\n",
       "  {'ticker': 'HSY',\n",
       "   'price': 163.35,\n",
       "   'weight': 0.04212436960908824,\n",
       "   'allocated': 326.7,\n",
       "   'shares': 2},\n",
       "  {'ticker': 'ED',\n",
       "   'price': 110.03,\n",
       "   'weight': 0.037087600994912484,\n",
       "   'allocated': 330.09000000000003,\n",
       "   'shares': 3},\n",
       "  {'ticker': 'DVA',\n",
       "   'price': 141.13,\n",
       "   'weight': 0.024424299724666317,\n",
       "   'allocated': 141.13,\n",
       "   'shares': 1},\n",
       "  {'ticker': 'VST',\n",
       "   'price': 139.28,\n",
       "   'weight': 0.023880810066973828,\n",
       "   'allocated': 139.28,\n",
       "   'shares': 1},\n",
       "  {'ticker': 'TAP',\n",
       "   'price': 57.56,\n",
       "   'weight': 0.013931392624777378,\n",
       "   'allocated': 115.12,\n",
       "   'shares': 2},\n",
       "  {'ticker': 'TDC',\n",
       "   'price': 22.07,\n",
       "   'weight': 0.004366346486756047,\n",
       "   'allocated': 22.07,\n",
       "   'shares': 1}],\n",
       " 'model': 'l2',\n",
       " 'optimizer': 'ledoit_wolf',\n",
       " 'notes': 'papa'}"
      ]
     },
     "execution_count": 3,
     "metadata": {},
     "output_type": "execute_result"
    }
   ],
   "source": [
    "db.portfolios.find_one({'_id': '4ad3f122123d4c00a9c49fdae13b1dd4'})"
   ]
  },
  {
   "cell_type": "code",
   "execution_count": 23,
   "metadata": {},
   "outputs": [],
   "source": [
    "prices.set_index('ticker')['price'].get('A')"
   ]
  },
  {
   "cell_type": "code",
   "execution_count": 25,
   "metadata": {},
   "outputs": [
    {
     "data": {
      "text/plain": [
       "[('MSFT', 102), ('PLTR', 101), ('AAPL', 100)]"
      ]
     },
     "execution_count": 25,
     "metadata": {},
     "output_type": "execute_result"
    }
   ],
   "source": [
    "sorted(prices.set_index('ticker')['price'].items(), key=lambda x: x[1], reverse=True)"
   ]
  },
  {
   "cell_type": "markdown",
   "metadata": {},
   "source": [
    "## FinViz stats"
   ]
  },
  {
   "cell_type": "code",
   "execution_count": 4,
   "metadata": {},
   "outputs": [],
   "source": [
    "import aiohttp\n",
    "import pandas as pd\n",
    "from io import StringIO\n",
    "\n",
    "from config import settings\n",
    "\n",
    "\n",
    "async def get_ticker_info(tickers: list[str]):\n",
    "    async with aiohttp.ClientSession() as session:\n",
    "        data = await session.get(\n",
    "            f'https://elite.finviz.com/export.ashx?v=152&t={\",\".join(tickers)}&o=-change&c=1,2,3,5,6,7,75,16,82,78,28,38,39,40,41,42,44,46,48,54,65,66&auth={settings.FINVIZ_API_KEY}'\n",
    "        )\n",
    "        df = pd.read_csv(\n",
    "            StringIO(await data.text())\n",
    "        ).set_index('Ticker')\n",
    "        return df.to_dict('index')\n",
    "\n",
    "def get_performance(dataset: pd.DataFrame, weights: dict):\n",
    "    returns = dataset[weights.keys()].pct_change()\n",
    "    portfolio_returns = returns.dot(pd.Series(weights))\n",
    "    return ((1 + portfolio_returns).cumprod() * 100).dropna()\n",
    "\n"
   ]
  },
  {
   "cell_type": "code",
   "execution_count": null,
   "metadata": {},
   "outputs": [],
   "source": []
  }
 ],
 "metadata": {
  "kernelspec": {
   "display_name": "Python 3",
   "language": "python",
   "name": "python3"
  },
  "language_info": {
   "codemirror_mode": {
    "name": "ipython",
    "version": 3
   },
   "file_extension": ".py",
   "mimetype": "text/x-python",
   "name": "python",
   "nbconvert_exporter": "python",
   "pygments_lexer": "ipython3",
   "version": "3.12.8"
  }
 },
 "nbformat": 4,
 "nbformat_minor": 2
}
